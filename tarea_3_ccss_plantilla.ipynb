{
 "cells": [
  {
   "cell_type": "markdown",
   "metadata": {},
   "source": [
    "# **Tarea Nº 3**"
   ]
  },
  {
   "cell_type": "markdown",
   "metadata": {},
   "source": [
    "Curso:          Fundamentos de Programación en Python para las CCSS y la Gestión Pública\n",
    "\n",
    "Profesor:       Víctor Fuentes Campos     "
   ]
  },
  {
   "cell_type": "markdown",
   "metadata": {},
   "source": [
    "- Fecha y hora de entrega: Martes 17 de diciembre, 5:59pm\n",
    "- Agregue los nombres de las personas con las que discutió esta tarea: ____ Armando Paredes ______\n",
    "- Envíe su tarea haciendo el `push` de su código a su repo en GitHub Classroom "
   ]
  },
  {
   "cell_type": "markdown",
   "metadata": {},
   "source": [
    "## **Mercado de autos usados**"
   ]
  },
  {
   "cell_type": "markdown",
   "metadata": {},
   "source": [
    "Importa el conjunto de datos `neoauto_20240924.csv`\n",
    "    "
   ]
  },
  {
   "cell_type": "markdown",
   "metadata": {},
   "source": [
    "1. ¿Cuáles son las cinco marcas de autos de segunda mano con mayor número de publicaciones? Use `item_brand`"
   ]
  },
  {
   "cell_type": "code",
   "execution_count": 8,
   "metadata": {},
   "outputs": [
    {
     "name": "stdout",
     "output_type": "stream",
     "text": [
      "Note: you may need to restart the kernel to use updated packages.\n"
     ]
    },
    {
     "name": "stderr",
     "output_type": "stream",
     "text": [
      "ERROR: Invalid requirement: '#': Expected package name at the start of dependency specifier\n",
      "    #\n",
      "    ^\n"
     ]
    },
    {
     "name": "stdout",
     "output_type": "stream",
     "text": [
      "Requirement already satisfied: seaborn in c:\\users\\pquispe\\appdata\\local\\programs\\python\\python313\\lib\\site-packages (0.13.2)Note: you may need to restart the kernel to use updated packages.\n",
      "\n",
      "Requirement already satisfied: numpy!=1.24.0,>=1.20 in c:\\users\\pquispe\\appdata\\local\\programs\\python\\python313\\lib\\site-packages (from seaborn) (2.1.3)\n",
      "Requirement already satisfied: pandas>=1.2 in c:\\users\\pquispe\\appdata\\local\\programs\\python\\python313\\lib\\site-packages (from seaborn) (2.2.3)\n",
      "Requirement already satisfied: matplotlib!=3.6.1,>=3.4 in c:\\users\\pquispe\\appdata\\local\\programs\\python\\python313\\lib\\site-packages (from seaborn) (3.9.4)\n",
      "Requirement already satisfied: contourpy>=1.0.1 in c:\\users\\pquispe\\appdata\\local\\programs\\python\\python313\\lib\\site-packages (from matplotlib!=3.6.1,>=3.4->seaborn) (1.3.1)\n",
      "Requirement already satisfied: cycler>=0.10 in c:\\users\\pquispe\\appdata\\local\\programs\\python\\python313\\lib\\site-packages (from matplotlib!=3.6.1,>=3.4->seaborn) (0.12.1)\n",
      "Requirement already satisfied: fonttools>=4.22.0 in c:\\users\\pquispe\\appdata\\local\\programs\\python\\python313\\lib\\site-packages (from matplotlib!=3.6.1,>=3.4->seaborn) (4.55.3)\n",
      "Requirement already satisfied: kiwisolver>=1.3.1 in c:\\users\\pquispe\\appdata\\local\\programs\\python\\python313\\lib\\site-packages (from matplotlib!=3.6.1,>=3.4->seaborn) (1.4.7)\n",
      "Requirement already satisfied: packaging>=20.0 in c:\\users\\pquispe\\appdata\\roaming\\python\\python313\\site-packages (from matplotlib!=3.6.1,>=3.4->seaborn) (24.2)\n",
      "Requirement already satisfied: pillow>=8 in c:\\users\\pquispe\\appdata\\local\\programs\\python\\python313\\lib\\site-packages (from matplotlib!=3.6.1,>=3.4->seaborn) (11.0.0)\n",
      "Requirement already satisfied: pyparsing>=2.3.1 in c:\\users\\pquispe\\appdata\\local\\programs\\python\\python313\\lib\\site-packages (from matplotlib!=3.6.1,>=3.4->seaborn) (3.2.0)\n",
      "Requirement already satisfied: python-dateutil>=2.7 in c:\\users\\pquispe\\appdata\\roaming\\python\\python313\\site-packages (from matplotlib!=3.6.1,>=3.4->seaborn) (2.9.0.post0)\n",
      "Requirement already satisfied: pytz>=2020.1 in c:\\users\\pquispe\\appdata\\local\\programs\\python\\python313\\lib\\site-packages (from pandas>=1.2->seaborn) (2024.2)\n",
      "Requirement already satisfied: tzdata>=2022.7 in c:\\users\\pquispe\\appdata\\local\\programs\\python\\python313\\lib\\site-packages (from pandas>=1.2->seaborn) (2024.2)\n",
      "Requirement already satisfied: six>=1.5 in c:\\users\\pquispe\\appdata\\roaming\\python\\python313\\site-packages (from python-dateutil>=2.7->matplotlib!=3.6.1,>=3.4->seaborn) (1.16.0)\n",
      "Requirement already satisfied: plotly in c:\\users\\pquispe\\appdata\\local\\programs\\python\\python313\\lib\\site-packages (5.24.1)Note: you may need to restart the kernel to use updated packages.\n",
      "\n",
      "Requirement already satisfied: tenacity>=6.2.0 in c:\\users\\pquispe\\appdata\\local\\programs\\python\\python313\\lib\\site-packages (from plotly) (9.0.0)\n",
      "Requirement already satisfied: packaging in c:\\users\\pquispe\\appdata\\roaming\\python\\python313\\site-packages (from plotly) (24.2)\n"
     ]
    }
   ],
   "source": [
    "# Solución\n",
    "%pip install matplotlib # si instalaron con conda usar !conda install matplotlib\n",
    "%pip install seaborn\n",
    "%pip install plotly\n",
    "\n",
    "import pandas as pd\n",
    "import matplotlib.pyplot as olt\n"
   ]
  },
  {
   "cell_type": "code",
   "execution_count": 9,
   "metadata": {},
   "outputs": [
    {
     "data": {
      "text/html": [
       "<div>\n",
       "<style scoped>\n",
       "    .dataframe tbody tr th:only-of-type {\n",
       "        vertical-align: middle;\n",
       "    }\n",
       "\n",
       "    .dataframe tbody tr th {\n",
       "        vertical-align: top;\n",
       "    }\n",
       "\n",
       "    .dataframe thead th {\n",
       "        text-align: right;\n",
       "    }\n",
       "</style>\n",
       "<table border=\"1\" class=\"dataframe\">\n",
       "  <thead>\n",
       "    <tr style=\"text-align: right;\">\n",
       "      <th></th>\n",
       "      <th>value</th>\n",
       "      <th>item_id</th>\n",
       "      <th>item_price</th>\n",
       "      <th>item_name</th>\n",
       "      <th>item_category</th>\n",
       "      <th>item_category_2</th>\n",
       "      <th>item_brand</th>\n",
       "      <th>item_km</th>\n",
       "      <th>item_year</th>\n",
       "      <th>item_transmission</th>\n",
       "      <th>...</th>\n",
       "      <th>item_location_province</th>\n",
       "      <th>item_tag</th>\n",
       "      <th>item_advertiser</th>\n",
       "      <th>item_credit</th>\n",
       "      <th>item_verified</th>\n",
       "      <th>item_financed_by</th>\n",
       "      <th>santander_price</th>\n",
       "      <th>item_publication_slug</th>\n",
       "      <th>item_publication_type</th>\n",
       "      <th>item_publication_type_Id</th>\n",
       "    </tr>\n",
       "  </thead>\n",
       "  <tbody>\n",
       "    <tr>\n",
       "      <th>0</th>\n",
       "      <td>29200</td>\n",
       "      <td>1807331</td>\n",
       "      <td>29200.0</td>\n",
       "      <td>toyota hilux 2021</td>\n",
       "      <td>autos</td>\n",
       "      <td>Pick Up</td>\n",
       "      <td>TOYOTA</td>\n",
       "      <td>51635.0</td>\n",
       "      <td>2021</td>\n",
       "      <td>Mecánica</td>\n",
       "      <td>...</td>\n",
       "      <td>lima</td>\n",
       "      <td>Como nuevo</td>\n",
       "      <td>Erick Bazán Ubaldo</td>\n",
       "      <td>True</td>\n",
       "      <td>True</td>\n",
       "      <td>Santander</td>\n",
       "      <td>NaN</td>\n",
       "      <td>auto/usado/toyota-hilux-2021-1807331</td>\n",
       "      <td>PREMIUM</td>\n",
       "      <td>25</td>\n",
       "    </tr>\n",
       "    <tr>\n",
       "      <th>1</th>\n",
       "      <td>98500</td>\n",
       "      <td>1807393</td>\n",
       "      <td>98500.0</td>\n",
       "      <td>lexus lx 600 2023</td>\n",
       "      <td>autos</td>\n",
       "      <td>Camionetas Suv</td>\n",
       "      <td>LEXUS</td>\n",
       "      <td>15000.0</td>\n",
       "      <td>2023</td>\n",
       "      <td>Automática - Secuencial</td>\n",
       "      <td>...</td>\n",
       "      <td>lima</td>\n",
       "      <td>Como nuevo</td>\n",
       "      <td>Asesor Gabriel NovoCar</td>\n",
       "      <td>False</td>\n",
       "      <td>True</td>\n",
       "      <td>NaN</td>\n",
       "      <td>NaN</td>\n",
       "      <td>auto/usado/lexus-lx-600-2023-1807393</td>\n",
       "      <td>PREMIUM</td>\n",
       "      <td>25</td>\n",
       "    </tr>\n",
       "    <tr>\n",
       "      <th>2</th>\n",
       "      <td>16800</td>\n",
       "      <td>1739308</td>\n",
       "      <td>17800.0</td>\n",
       "      <td>bmw 520-i 2016</td>\n",
       "      <td>autos</td>\n",
       "      <td>Sedan</td>\n",
       "      <td>BMW</td>\n",
       "      <td>66000.0</td>\n",
       "      <td>2016</td>\n",
       "      <td>Automática - Secuencial</td>\n",
       "      <td>...</td>\n",
       "      <td>lima</td>\n",
       "      <td>Ocasión</td>\n",
       "      <td>Carlos Chauca</td>\n",
       "      <td>True</td>\n",
       "      <td>True</td>\n",
       "      <td>Santander</td>\n",
       "      <td>16800.0</td>\n",
       "      <td>auto/usado/bmw-520-i-2016-1739308</td>\n",
       "      <td>PREMIUM</td>\n",
       "      <td>25</td>\n",
       "    </tr>\n",
       "    <tr>\n",
       "      <th>3</th>\n",
       "      <td>15900</td>\n",
       "      <td>1805714</td>\n",
       "      <td>16900.0</td>\n",
       "      <td>chevrolet captiva 2021</td>\n",
       "      <td>autos</td>\n",
       "      <td>Camionetas Suv</td>\n",
       "      <td>CHEVROLET</td>\n",
       "      <td>40300.0</td>\n",
       "      <td>2021</td>\n",
       "      <td>Automática - Secuencial</td>\n",
       "      <td>...</td>\n",
       "      <td>santa</td>\n",
       "      <td>Premium</td>\n",
       "      <td>Darwin Américo Barrón Pastor</td>\n",
       "      <td>True</td>\n",
       "      <td>True</td>\n",
       "      <td>Santander</td>\n",
       "      <td>15900.0</td>\n",
       "      <td>auto/usado/chevrolet-captiva-2021-1805714</td>\n",
       "      <td>PREMIUM</td>\n",
       "      <td>25</td>\n",
       "    </tr>\n",
       "    <tr>\n",
       "      <th>4</th>\n",
       "      <td>12500</td>\n",
       "      <td>1806332</td>\n",
       "      <td>12500.0</td>\n",
       "      <td>dfsk glory 500 2023</td>\n",
       "      <td>autos</td>\n",
       "      <td>Camionetas Suv</td>\n",
       "      <td>DFSK</td>\n",
       "      <td>33000.0</td>\n",
       "      <td>2023</td>\n",
       "      <td>Mecánica</td>\n",
       "      <td>...</td>\n",
       "      <td>lima</td>\n",
       "      <td>Premium</td>\n",
       "      <td>GORDILLO FERNANDO</td>\n",
       "      <td>True</td>\n",
       "      <td>True</td>\n",
       "      <td>Santander</td>\n",
       "      <td>NaN</td>\n",
       "      <td>auto/usado/dfsk-glory-500-2023-1806332</td>\n",
       "      <td>PREMIUM</td>\n",
       "      <td>25</td>\n",
       "    </tr>\n",
       "    <tr>\n",
       "      <th>...</th>\n",
       "      <td>...</td>\n",
       "      <td>...</td>\n",
       "      <td>...</td>\n",
       "      <td>...</td>\n",
       "      <td>...</td>\n",
       "      <td>...</td>\n",
       "      <td>...</td>\n",
       "      <td>...</td>\n",
       "      <td>...</td>\n",
       "      <td>...</td>\n",
       "      <td>...</td>\n",
       "      <td>...</td>\n",
       "      <td>...</td>\n",
       "      <td>...</td>\n",
       "      <td>...</td>\n",
       "      <td>...</td>\n",
       "      <td>...</td>\n",
       "      <td>...</td>\n",
       "      <td>...</td>\n",
       "      <td>...</td>\n",
       "      <td>...</td>\n",
       "    </tr>\n",
       "    <tr>\n",
       "      <th>4036</th>\n",
       "      <td>18000</td>\n",
       "      <td>1805535</td>\n",
       "      <td>18000.0</td>\n",
       "      <td>mini 5 puertas 2018</td>\n",
       "      <td>autos</td>\n",
       "      <td>Hatchback</td>\n",
       "      <td>MINI</td>\n",
       "      <td>32500.0</td>\n",
       "      <td>2018</td>\n",
       "      <td>Automática</td>\n",
       "      <td>...</td>\n",
       "      <td>lima</td>\n",
       "      <td>NaN</td>\n",
       "      <td>elizabeth arias</td>\n",
       "      <td>True</td>\n",
       "      <td>False</td>\n",
       "      <td>Santander</td>\n",
       "      <td>NaN</td>\n",
       "      <td>auto/usado/mini-5-puertas-2018-1805535</td>\n",
       "      <td>GRATUITO</td>\n",
       "      <td>27</td>\n",
       "    </tr>\n",
       "    <tr>\n",
       "      <th>4037</th>\n",
       "      <td>15000</td>\n",
       "      <td>1805482</td>\n",
       "      <td>16000.0</td>\n",
       "      <td>bmw 120i 2016</td>\n",
       "      <td>autos</td>\n",
       "      <td>Deportivo</td>\n",
       "      <td>BMW</td>\n",
       "      <td>83000.0</td>\n",
       "      <td>2016</td>\n",
       "      <td>Automática - Secuencial</td>\n",
       "      <td>...</td>\n",
       "      <td>lima</td>\n",
       "      <td>NaN</td>\n",
       "      <td>Fabrizio Canales</td>\n",
       "      <td>True</td>\n",
       "      <td>False</td>\n",
       "      <td>Santander</td>\n",
       "      <td>15000.0</td>\n",
       "      <td>auto/usado/bmw-120i-2016-1805482</td>\n",
       "      <td>GRATUITO</td>\n",
       "      <td>27</td>\n",
       "    </tr>\n",
       "    <tr>\n",
       "      <th>4038</th>\n",
       "      <td>9000</td>\n",
       "      <td>1805528</td>\n",
       "      <td>10000.0</td>\n",
       "      <td>volkswagen gol 2022</td>\n",
       "      <td>autos</td>\n",
       "      <td>Sedan</td>\n",
       "      <td>VOLKSWAGEN</td>\n",
       "      <td>43000.0</td>\n",
       "      <td>2022</td>\n",
       "      <td>Mecánica</td>\n",
       "      <td>...</td>\n",
       "      <td>lima</td>\n",
       "      <td>NaN</td>\n",
       "      <td>Mario Toledo Castillo</td>\n",
       "      <td>True</td>\n",
       "      <td>False</td>\n",
       "      <td>Santander</td>\n",
       "      <td>9000.0</td>\n",
       "      <td>auto/usado/volkswagen-gol-2022-1805528</td>\n",
       "      <td>GRATUITO</td>\n",
       "      <td>27</td>\n",
       "    </tr>\n",
       "    <tr>\n",
       "      <th>4039</th>\n",
       "      <td>30500</td>\n",
       "      <td>1805518</td>\n",
       "      <td>31500.0</td>\n",
       "      <td>bmw x5 2016</td>\n",
       "      <td>autos</td>\n",
       "      <td>Camionetas Suv</td>\n",
       "      <td>BMW</td>\n",
       "      <td>32000.0</td>\n",
       "      <td>2016</td>\n",
       "      <td>Automática - Secuencial</td>\n",
       "      <td>...</td>\n",
       "      <td>lima</td>\n",
       "      <td>NaN</td>\n",
       "      <td>SHH Hearne</td>\n",
       "      <td>True</td>\n",
       "      <td>False</td>\n",
       "      <td>Santander</td>\n",
       "      <td>30500.0</td>\n",
       "      <td>auto/usado/bmw-x5-2016-1805518</td>\n",
       "      <td>GRATUITO</td>\n",
       "      <td>27</td>\n",
       "    </tr>\n",
       "    <tr>\n",
       "      <th>4040</th>\n",
       "      <td>5500</td>\n",
       "      <td>1805432</td>\n",
       "      <td>5500.0</td>\n",
       "      <td>suzuki swift 2008</td>\n",
       "      <td>autos</td>\n",
       "      <td>Hatchback</td>\n",
       "      <td>SUZUKI</td>\n",
       "      <td>1600.0</td>\n",
       "      <td>2008</td>\n",
       "      <td>Automática</td>\n",
       "      <td>...</td>\n",
       "      <td>lima</td>\n",
       "      <td>NaN</td>\n",
       "      <td>Susana Patiño</td>\n",
       "      <td>False</td>\n",
       "      <td>False</td>\n",
       "      <td>NaN</td>\n",
       "      <td>NaN</td>\n",
       "      <td>auto/usado/suzuki-swift-2008-1805432</td>\n",
       "      <td>GRATUITO</td>\n",
       "      <td>27</td>\n",
       "    </tr>\n",
       "  </tbody>\n",
       "</table>\n",
       "<p>4041 rows × 23 columns</p>\n",
       "</div>"
      ],
      "text/plain": [
       "      value  item_id  item_price               item_name item_category  \\\n",
       "0     29200  1807331     29200.0       toyota hilux 2021         autos   \n",
       "1     98500  1807393     98500.0       lexus lx 600 2023         autos   \n",
       "2     16800  1739308     17800.0          bmw 520-i 2016         autos   \n",
       "3     15900  1805714     16900.0  chevrolet captiva 2021         autos   \n",
       "4     12500  1806332     12500.0     dfsk glory 500 2023         autos   \n",
       "...     ...      ...         ...                     ...           ...   \n",
       "4036  18000  1805535     18000.0     mini 5 puertas 2018         autos   \n",
       "4037  15000  1805482     16000.0           bmw 120i 2016         autos   \n",
       "4038   9000  1805528     10000.0     volkswagen gol 2022         autos   \n",
       "4039  30500  1805518     31500.0             bmw x5 2016         autos   \n",
       "4040   5500  1805432      5500.0       suzuki swift 2008         autos   \n",
       "\n",
       "     item_category_2  item_brand  item_km  item_year        item_transmission  \\\n",
       "0            Pick Up      TOYOTA  51635.0       2021                 Mecánica   \n",
       "1     Camionetas Suv       LEXUS  15000.0       2023  Automática - Secuencial   \n",
       "2              Sedan         BMW  66000.0       2016  Automática - Secuencial   \n",
       "3     Camionetas Suv   CHEVROLET  40300.0       2021  Automática - Secuencial   \n",
       "4     Camionetas Suv        DFSK  33000.0       2023                 Mecánica   \n",
       "...              ...         ...      ...        ...                      ...   \n",
       "4036       Hatchback        MINI  32500.0       2018               Automática   \n",
       "4037       Deportivo         BMW  83000.0       2016  Automática - Secuencial   \n",
       "4038           Sedan  VOLKSWAGEN  43000.0       2022                 Mecánica   \n",
       "4039  Camionetas Suv         BMW  32000.0       2016  Automática - Secuencial   \n",
       "4040       Hatchback      SUZUKI   1600.0       2008               Automática   \n",
       "\n",
       "      ... item_location_province    item_tag               item_advertiser  \\\n",
       "0     ...                   lima  Como nuevo            Erick Bazán Ubaldo   \n",
       "1     ...                   lima  Como nuevo        Asesor Gabriel NovoCar   \n",
       "2     ...                   lima     Ocasión                 Carlos Chauca   \n",
       "3     ...                  santa     Premium  Darwin Américo Barrón Pastor   \n",
       "4     ...                   lima     Premium             GORDILLO FERNANDO   \n",
       "...   ...                    ...         ...                           ...   \n",
       "4036  ...                   lima         NaN               elizabeth arias   \n",
       "4037  ...                   lima         NaN              Fabrizio Canales   \n",
       "4038  ...                   lima         NaN         Mario Toledo Castillo   \n",
       "4039  ...                   lima         NaN                    SHH Hearne   \n",
       "4040  ...                   lima         NaN                 Susana Patiño   \n",
       "\n",
       "     item_credit item_verified item_financed_by  santander_price  \\\n",
       "0           True          True        Santander              NaN   \n",
       "1          False          True              NaN              NaN   \n",
       "2           True          True        Santander          16800.0   \n",
       "3           True          True        Santander          15900.0   \n",
       "4           True          True        Santander              NaN   \n",
       "...          ...           ...              ...              ...   \n",
       "4036        True         False        Santander              NaN   \n",
       "4037        True         False        Santander          15000.0   \n",
       "4038        True         False        Santander           9000.0   \n",
       "4039        True         False        Santander          30500.0   \n",
       "4040       False         False              NaN              NaN   \n",
       "\n",
       "                          item_publication_slug item_publication_type  \\\n",
       "0          auto/usado/toyota-hilux-2021-1807331               PREMIUM   \n",
       "1          auto/usado/lexus-lx-600-2023-1807393               PREMIUM   \n",
       "2             auto/usado/bmw-520-i-2016-1739308               PREMIUM   \n",
       "3     auto/usado/chevrolet-captiva-2021-1805714               PREMIUM   \n",
       "4        auto/usado/dfsk-glory-500-2023-1806332               PREMIUM   \n",
       "...                                         ...                   ...   \n",
       "4036     auto/usado/mini-5-puertas-2018-1805535              GRATUITO   \n",
       "4037           auto/usado/bmw-120i-2016-1805482              GRATUITO   \n",
       "4038     auto/usado/volkswagen-gol-2022-1805528              GRATUITO   \n",
       "4039             auto/usado/bmw-x5-2016-1805518              GRATUITO   \n",
       "4040       auto/usado/suzuki-swift-2008-1805432              GRATUITO   \n",
       "\n",
       "      item_publication_type_Id  \n",
       "0                           25  \n",
       "1                           25  \n",
       "2                           25  \n",
       "3                           25  \n",
       "4                           25  \n",
       "...                        ...  \n",
       "4036                        27  \n",
       "4037                        27  \n",
       "4038                        27  \n",
       "4039                        27  \n",
       "4040                        27  \n",
       "\n",
       "[4041 rows x 23 columns]"
      ]
     },
     "execution_count": 9,
     "metadata": {},
     "output_type": "execute_result"
    }
   ],
   "source": [
    "df_neoauto = pd.read_csv(\"neoauto_20240924.csv\")\n",
    "df_neoauto"
   ]
  },
  {
   "cell_type": "code",
   "execution_count": 15,
   "metadata": {},
   "outputs": [
    {
     "data": {
      "text/plain": [
       "item_brand\n",
       "BMW              349\n",
       "TOYOTA           338\n",
       "NISSAN           285\n",
       "MERCEDES BENZ    243\n",
       "MAZDA            238\n",
       "dtype: int64"
      ]
     },
     "execution_count": 15,
     "metadata": {},
     "output_type": "execute_result"
    }
   ],
   "source": [
    "df_neoauto.groupby(\"item_brand\").size().sort_values(ascending=False).head(5)"
   ]
  },
  {
   "cell_type": "markdown",
   "metadata": {},
   "source": [
    "2. ¿Cuántas camionetas SUV tienen un precio mayor a US$20,000? Use `item_category_2`"
   ]
  },
  {
   "cell_type": "code",
   "execution_count": 21,
   "metadata": {},
   "outputs": [
    {
     "data": {
      "text/plain": [
       "1153"
      ]
     },
     "execution_count": 21,
     "metadata": {},
     "output_type": "execute_result"
    }
   ],
   "source": [
    "# Solución\n",
    "suv_count = df_neoauto[(df_neoauto['item_category_2'] == \"Camionetas Suv\") & (df_neoauto['item_price'] > 20000)].shape[0]\n",
    "\n",
    "suv_count"
   ]
  },
  {
   "cell_type": "markdown",
   "metadata": {},
   "source": [
    "3. ¿Cuántos tipos de transmisiones existen y cuántas publicaciones contiene cada uno? Use `item_transmission` y `item_price`"
   ]
  },
  {
   "cell_type": "code",
   "execution_count": 23,
   "metadata": {},
   "outputs": [
    {
     "data": {
      "text/plain": [
       "item_transmission\n",
       "Automática - Secuencial    1731\n",
       "Automática                 1289\n",
       "Mecánica                   1021\n",
       "Name: count, dtype: int64"
      ]
     },
     "execution_count": 23,
     "metadata": {},
     "output_type": "execute_result"
    }
   ],
   "source": [
    "# Solución\n",
    "df_neoauto[\"item_transmission\"].value_counts()"
   ]
  },
  {
   "cell_type": "markdown",
   "metadata": {},
   "source": [
    "4. Encuentra los 5 autos de mayor precio (`item_price`) para cada tipo de publicación (`item_publication_type`) "
   ]
  },
  {
   "cell_type": "code",
   "execution_count": 27,
   "metadata": {},
   "outputs": [
    {
     "name": "stdout",
     "output_type": "stream",
     "text": [
      "item_publication_type                                    item_name  item_price\n",
      "              PREMIUM mercedes benz gle 63 s amg 4matic coupe 2023    345000.0\n",
      "              PREMIUM                       rolls royce ghost 2014    290000.0\n",
      "              PREMIUM                   mercedes benz g63 amg 2020    255000.0\n",
      "              PREMIUM                        aston martin dbx 2021    229000.0\n",
      "              PREMIUM                         chevrolet tahoe 2022    220000.0\n",
      "               SIMPLE                   aston martin vanquish 2016    169990.0\n",
      "            DESTACADO                              bmw x7 40i 2024    115000.0\n",
      "               SIMPLE                            bmw m3 sedán 2023    107990.0\n",
      "             GRATUITO             mercedes benz gle 450 coupe 2023    100000.0\n",
      "             GRATUITO                            toyota hilux 2019    100000.0\n",
      "               SIMPLE                                  bmw m4 2022     99900.0\n",
      "               SIMPLE                        maserati levante 2022     89900.0\n",
      "               SIMPLE                        maserati grecale 2023     88990.0\n",
      "            DESTACADO                       porsche cayenne s 2020     76500.0\n",
      "            DESTACADO                                 audi q8 2022     75900.0\n",
      "             GRATUITO            mercedes benz gls 400 4matic 2018     75000.0\n",
      "            DESTACADO         mercedes benz amg a 45s 4 matic 2022     73500.0\n",
      "            DESTACADO                           nissan patrol 2024     72995.0\n",
      "             GRATUITO                               bmw m240i 2023     70500.0\n",
      "             GRATUITO                         toyota fortuner 2022     60000.0\n"
     ]
    }
   ],
   "source": [
    "# Solución\n",
    "top_5_by_publication_type = (\n",
    "    df_neoauto\n",
    "    .sort_values(by='item_price', ascending=False)  # Ordenar por precio descendente\n",
    "    .groupby('item_publication_type')  # Agrupar por tipo de publicación\n",
    "    .head(5)  # Seleccionar los 5 primeros de cada grupo\n",
    ")\n",
    "top_5_by_publication_type\n",
    "\n",
    "# Seleccionar solo columnas relevantes para el resultado\n",
    "top_5_summary = top_5_by_publication_type[['item_publication_type', 'item_name', 'item_price']]\n",
    "top_5_summary\n",
    "\n",
    "# Mostrar los datos en la consola\n",
    "print(top_5_summary.to_string(index=False))"
   ]
  },
  {
   "cell_type": "markdown",
   "metadata": {},
   "source": [
    "5. ¿Cuál es el kilometraje promedio (`item_km`) de las 50 publicaciones con mayor precio (`item_price`) que ofrecen financiamiento de un banco (`item_financed_by`)?"
   ]
  },
  {
   "cell_type": "code",
   "execution_count": null,
   "metadata": {},
   "outputs": [],
   "source": [
    "# Solución"
   ]
  },
  {
   "cell_type": "markdown",
   "metadata": {},
   "source": [
    "6. Encuentra los 5 autos de menos kilometraje (`item_km`) para cada una de las 3 categorías de venta (`item_tag`) con mayores publicaciones"
   ]
  },
  {
   "cell_type": "code",
   "execution_count": null,
   "metadata": {},
   "outputs": [],
   "source": [
    "# Solución"
   ]
  },
  {
   "cell_type": "markdown",
   "metadata": {},
   "source": [
    "7. Utilizando un `for` loop, encuentre el kilometraje máximo para las publicaciones de las siguientes marcas `[\"TOYOTA\", \"SUZUKI\",\"HYUNDAI\", \"KIA\"]`"
   ]
  },
  {
   "cell_type": "code",
   "execution_count": null,
   "metadata": {},
   "outputs": [],
   "source": [
    "# Solución\n",
    "marcas_select = [\"TOYOTA\", \"SUZIKU\", \"HYUNDAI\", \"KIA\"]"
   ]
  },
  {
   "cell_type": "markdown",
   "metadata": {},
   "source": [
    "8. Genere un scatterplot que muestre la relación entre precio (`item_price`) y kilometraje (`item_km`)"
   ]
  },
  {
   "cell_type": "code",
   "execution_count": null,
   "metadata": {},
   "outputs": [],
   "source": [
    "# Solución"
   ]
  },
  {
   "cell_type": "markdown",
   "metadata": {},
   "source": [
    "9. Genere un gráfico de barras con el precio promedio para cada marca. Use `item_price` y `item_brand`"
   ]
  },
  {
   "cell_type": "code",
   "execution_count": null,
   "metadata": {},
   "outputs": [],
   "source": [
    "# Solución"
   ]
  },
  {
   "cell_type": "markdown",
   "metadata": {},
   "source": [
    "10. Genere dos histogramas para las distribuciones del precio (`item_price`) y el kilometraje (`item_km`)"
   ]
  },
  {
   "cell_type": "code",
   "execution_count": null,
   "metadata": {},
   "outputs": [],
   "source": [
    "# Solución"
   ]
  },
  {
   "cell_type": "markdown",
   "metadata": {},
   "source": [
    "## **Gastos del hogar**"
   ]
  },
  {
   "cell_type": "markdown",
   "metadata": {},
   "source": [
    "Descargue el módulo Sumaria de la Enaho 2023. Para ello, utilice la página de [microdatos del INEI](https://proyectos.inei.gob.pe/microdatos/).\n",
    "\n",
    ">Ojo: debe utilizar la encuesta `ENAHO Metología ACTUALIZADA` del tipo `Condiciones de Vida y Pobreza - ENAHO` y período `Anual - (Ene-Dic)`"
   ]
  },
  {
   "cell_type": "markdown",
   "metadata": {},
   "source": [
    "1. Genere un gráfico de barras con el gasto promedio anual por hogar según dominio geográfico? Use `gashog2d` y `dominio`. Para esta pregunta no consideraremos el factor de expansión (`factor07`)"
   ]
  },
  {
   "cell_type": "code",
   "execution_count": null,
   "metadata": {},
   "outputs": [],
   "source": [
    "# Solución"
   ]
  },
  {
   "cell_type": "markdown",
   "metadata": {},
   "source": [
    "2. Genere un gráfico de barras con el gasto promedio anual por **persona** según dominio geográfico? Use `gashog2d`, `mieperho` y `dominio`. Para esta pregunta no consideraremos el factor de expansión (`factor07`)"
   ]
  },
  {
   "cell_type": "code",
   "execution_count": null,
   "metadata": {},
   "outputs": [],
   "source": [
    "# Solución"
   ]
  },
  {
   "cell_type": "markdown",
   "metadata": {},
   "source": [
    "3. Para cada categoría de la variable (`pobreza`), calcule el ingreso total per cápita del hogar (`inghog2d`). Use `inghog2d`, `mieperho` y `pobreza`. Para esta pregunta no consideraremos el factor de expansión (`factor07`)"
   ]
  },
  {
   "cell_type": "code",
   "execution_count": null,
   "metadata": {},
   "outputs": [],
   "source": [
    "# Solución"
   ]
  },
  {
   "cell_type": "markdown",
   "metadata": {},
   "source": [
    "4. Calcule el ahorro promedio de los hogares definido como la diferencia entre el ingreso del hogar (`inghog2d`) y el gasto del hogar (`gashog2d`) y guárdelo en `ahorro`. Luego, grafique el promedio del `ahorro` para cada categoría de la variable (`pobreza`). Use `inghog2d`, `mieperho` y `pobreza`. Para esta pregunta no consideraremos el factor de expansión (`factor07`)"
   ]
  },
  {
   "cell_type": "code",
   "execution_count": null,
   "metadata": {},
   "outputs": [],
   "source": [
    "# Solución"
   ]
  }
 ],
 "metadata": {
  "hide_input": false,
  "kernelspec": {
   "display_name": "Python 3",
   "language": "python",
   "name": "python3"
  },
  "language_info": {
   "codemirror_mode": {
    "name": "ipython",
    "version": 3
   },
   "file_extension": ".py",
   "mimetype": "text/x-python",
   "name": "python",
   "nbconvert_exporter": "python",
   "pygments_lexer": "ipython3",
   "version": "3.13.1"
  },
  "toc": {
   "base_numbering": 1,
   "nav_menu": {},
   "number_sections": true,
   "sideBar": true,
   "skip_h1_title": false,
   "title_cell": "Table of Contents",
   "title_sidebar": "Contents",
   "toc_cell": false,
   "toc_position": {},
   "toc_section_display": true,
   "toc_window_display": false
  }
 },
 "nbformat": 4,
 "nbformat_minor": 4
}
